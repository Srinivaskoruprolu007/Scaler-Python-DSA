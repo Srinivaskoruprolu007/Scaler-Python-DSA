{
 "cells": [
  {
   "cell_type": "markdown",
   "metadata": {},
   "source": [
    "# Control Statements"
   ]
  },
  {
   "cell_type": "code",
   "execution_count": 1,
   "metadata": {},
   "outputs": [],
   "source": [
    "x = 60"
   ]
  },
  {
   "cell_type": "code",
   "execution_count": 2,
   "metadata": {},
   "outputs": [
    {
     "name": "stdout",
     "output_type": "stream",
     "text": [
      "After the if block\n"
     ]
    }
   ],
   "source": [
    "if x < 50:\n",
    "    print(\"random\")\n",
    "    y = 10\n",
    "    y += 5\n",
    "    print(y)\n",
    "\n",
    "print(\"After the if block\")"
   ]
  },
  {
   "cell_type": "code",
   "execution_count": 3,
   "metadata": {},
   "outputs": [
    {
     "name": "stdout",
     "output_type": "stream",
     "text": [
      "0\n",
      "1\n",
      "2\n",
      "3\n",
      "4\n"
     ]
    }
   ],
   "source": [
    "print(\"0\")\n",
    "if 50 > 40:\n",
    "    print(\"1\")\n",
    "    print(\"2\")\n",
    "    print(\"3\")\n",
    "\n",
    "print(\"4\")"
   ]
  },
  {
   "cell_type": "code",
   "execution_count": 4,
   "metadata": {},
   "outputs": [
    {
     "name": "stdout",
     "output_type": "stream",
     "text": [
      "0\n",
      "4\n"
     ]
    }
   ],
   "source": [
    "print(\"0\")\n",
    "\n",
    "if 50 < 40:\n",
    "    print(\"1\")\n",
    "    print(\"2\")\n",
    "    print(\"3\")\n",
    "\n",
    "print(\"4\")"
   ]
  },
  {
   "cell_type": "markdown",
   "metadata": {},
   "source": [
    "*\n",
    "Lines before the if-else block will always excute\n",
    "\n",
    "if <conditions> :\n",
    "    if block excutes if the condition is true.\n",
    "    second line\n",
    "    third line\n",
    "else:\n",
    "    else block excutes if the condition is false\n",
    "    second line\n",
    "    third line\n",
    "\n",
    "Lines after the if-else block will always excute\n",
    "*"
   ]
  },
  {
   "cell_type": "markdown",
   "metadata": {},
   "source": [
    "- Question 1\n",
    "1. Take an integer as input from the user\n",
    "2. Calculate cube of the input\n",
    "3. If result > 50 print \"Massive Number\" else print \"Small Number\"\n",
    "4. After this, print \"EXCUTION COMPLETE\""
   ]
  },
  {
   "cell_type": "code",
   "execution_count": 5,
   "metadata": {},
   "outputs": [
    {
     "name": "stdout",
     "output_type": "stream",
     "text": [
      "Massive Number\n",
      "EXCUTION COMPLETE\n"
     ]
    }
   ],
   "source": [
    "n = int(input())\n",
    "result = n ** 3\n",
    "\n",
    "if result > 50:\n",
    "    print(\"Massive Number\")\n",
    "else:\n",
    "    print(\"Small number\")\n",
    "\n",
    "print(\"EXCUTION COMPLETE\")"
   ]
  },
  {
   "cell_type": "markdown",
   "metadata": {},
   "source": [
    "- Question 2 \n",
    "1. Take a password as input from user.\n",
    "2. Take another input to verify password\n",
    "3. Print \"Successfully Verified !\" if both password are same.\n",
    "4. Else print \"Passwords do not match.\""
   ]
  },
  {
   "cell_type": "code",
   "execution_count": 6,
   "metadata": {},
   "outputs": [
    {
     "name": "stdout",
     "output_type": "stream",
     "text": [
      "Passwords do not match\n",
      "EXCUTION COMPLETE\n"
     ]
    }
   ],
   "source": [
    "password_1 = input(\"Enter your password - \")\n",
    "password_2 = input(\"Enter your password again - \")\n",
    "\n",
    "if password_1 == password_2:\n",
    "    print(\"Successfully Verified\")\n",
    "else:\n",
    "    print(\"Passwords do not match\")\n",
    "\n",
    "print(\"EXCUTION COMPLETE\")\n"
   ]
  },
  {
   "cell_type": "code",
   "execution_count": 7,
   "metadata": {},
   "outputs": [
    {
     "name": "stdout",
     "output_type": "stream",
     "text": [
      "Good Night ❤️\n"
     ]
    }
   ],
   "source": [
    "time = int(input())\n",
    "\n",
    "if time > 9 and time <= 12:\n",
    "    print(\"Good Morning ❤️\")\n",
    "else:\n",
    "    if time > 12 and time <= 12:\n",
    "        print(\"Good Afternoon ❤️\")\n",
    "    else:\n",
    "        if time > 17 and time <= 20:\n",
    "            print(\"Good Evening ❤️\")\n",
    "        else:\n",
    "            print(\"Good Night ❤️\")\n",
    "\n"
   ]
  },
  {
   "cell_type": "code",
   "execution_count": 8,
   "metadata": {},
   "outputs": [
    {
     "name": "stdout",
     "output_type": "stream",
     "text": [
      "Good Afternoon ❤️\n"
     ]
    }
   ],
   "source": [
    "time = int(input())\n",
    "\n",
    "if time > 9 and time <= 12:\n",
    "    print(\"Good Morning ❤️\")\n",
    "elif time > 12 and time <= 17:\n",
    "    print(\"Good Afternoon ❤️\")\n",
    "elif time > 17 and time <= 20:\n",
    "    print(\"Good Evening ❤️\")\n",
    "else:\n",
    "    print('Go to sleep 💤')"
   ]
  },
  {
   "cell_type": "markdown",
   "metadata": {},
   "source": [
    "# PRACTICE, PRACTICE and PRACTICE !"
   ]
  },
  {
   "cell_type": "markdown",
   "metadata": {},
   "source": [
    "- Question 3 -\n",
    "1. Take an integer as input from user\n",
    "2. Print whether it is positive or not\n",
    "3. If the number is negative, print its absolute value and if it's zero then print \"Zero\""
   ]
  },
  {
   "cell_type": "code",
   "execution_count": 9,
   "metadata": {},
   "outputs": [
    {
     "name": "stdout",
     "output_type": "stream",
     "text": [
      "Negative\n"
     ]
    }
   ],
   "source": [
    "number = int(input())\n",
    "\n",
    "if number > 0:\n",
    "    print(\"Positive\")\n",
    "elif number == 0:\n",
    "    print(\"Zero\")\n",
    "else:\n",
    "    print(\"Negative\")\n"
   ]
  },
  {
   "cell_type": "markdown",
   "metadata": {},
   "source": [
    "- Question - 4\n",
    "* Take a non-negitive single digit positive number as input. \n",
    "* If num**5%50+20-6 is > 15\n",
    "* then print(\"Black\") else print(\"Blue\")\n",
    "Note - Reject any inputs which are not single digit or positive \n",
    "print(\"Invalid Input\")\n",
    "\n"
   ]
  },
  {
   "cell_type": "code",
   "execution_count": 10,
   "metadata": {},
   "outputs": [
    {
     "name": "stdout",
     "output_type": "stream",
     "text": [
      "Black\n"
     ]
    }
   ],
   "source": [
    "number = int(input())\n",
    "if number >= 0 and number <= 9:\n",
    "    # Number is accepted\n",
    "    result = number ** 5 % 50 + 2 - 6\n",
    "\n",
    "    if result > 15:\n",
    "        print(\"Black\")\n",
    "    else:\n",
    "        print(\"Blue\")\n",
    "else:\n",
    "    print(\"Invalid input\")"
   ]
  },
  {
   "cell_type": "code",
   "execution_count": 11,
   "metadata": {},
   "outputs": [
    {
     "name": "stdout",
     "output_type": "stream",
     "text": [
      "Invalid input\n"
     ]
    }
   ],
   "source": [
    "number = int(input())\n",
    "if number >= 0 and number <= 9:\n",
    "    # Number is accepted\n",
    "    result = number ** 5 % 50 + 2 - 6\n",
    "\n",
    "    if result > 15:\n",
    "        print(\"Black\")\n",
    "    else:\n",
    "        print(\"Blue\")\n",
    "else:\n",
    "    print(\"Invalid input\")"
   ]
  },
  {
   "cell_type": "markdown",
   "metadata": {},
   "source": [
    "- Question 6 (Google, Microsoft, Cred, Razorpay, Twitter, Meta...)\n",
    "##### FIZZBUZZ\n",
    "1. Take an integer input n.\n",
    "2. If n is a multiple of 3 -> print(FIZZ)\n",
    "3. If n is a multiple of 5 -> print(BUZZ)\n",
    "4. If n is multiple of both 3 and 5 -> print(FIZZBUZZ)\n",
    "otherwise print nothing\n"
   ]
  },
  {
   "cell_type": "code",
   "execution_count": 13,
   "metadata": {},
   "outputs": [
    {
     "name": "stdout",
     "output_type": "stream",
     "text": [
      "FIZZBUZZ\n"
     ]
    }
   ],
   "source": [
    "n = int(input())\n",
    "\n",
    "if n % 15 == 0:\n",
    "    print(\"FIZZBUZZ\")\n",
    "elif n % 5 == 0:\n",
    "    print(\"BUZZ\")\n",
    "elif n % 3 == 0:\n",
    "    print(\"FIZZ\")\n",
    "else:\n",
    "    print()\n",
    "    "
   ]
  },
  {
   "cell_type": "markdown",
   "metadata": {},
   "source": [
    "* What will be the output of the following ?\n",
    "a = 50\n",
    "* if a > 40:\n",
    "    print(\"A\")\n",
    "* if a > 30:\n",
    "    print(\"B\")\n",
    "* if a > 20:\n",
    "    print(\"C\")\n"
   ]
  },
  {
   "cell_type": "code",
   "execution_count": 14,
   "metadata": {},
   "outputs": [
    {
     "name": "stdout",
     "output_type": "stream",
     "text": [
      "A\n",
      "B\n",
      "C\n"
     ]
    }
   ],
   "source": [
    "a = 50\n",
    "if a > 40:\n",
    "    print(\"A\")\n",
    "if a > 30:\n",
    "    print(\"B\")\n",
    "if a > 20:\n",
    "    print(\"C\")"
   ]
  },
  {
   "cell_type": "markdown",
   "metadata": {},
   "source": [
    "- Question - 8\n",
    "* Build a meter system for an auto. Take two inputs.\n",
    "* Kilometers Travelled and Stall Time (in mins.)\n",
    "    - Rate List -\n",
    "    * First 10 Kms - Rs 10 per km\n",
    "    * Next 40 kms – Rs 9 per km\n",
    "    * Next 100 kms - Rs 8 per Km\n",
    "    * Any leftover Km count - Rs 6 per km\n",
    "    * Rs 5 extra for minute of stall time\n",
    "\n"
   ]
  },
  {
   "cell_type": "code",
   "execution_count": 17,
   "metadata": {},
   "outputs": [
    {
     "name": "stdout",
     "output_type": "stream",
     "text": [
      "75\n"
     ]
    }
   ],
   "source": [
    "kms = int(input())\n",
    "mins = int(input())\n",
    "\n",
    "if kms >= 150:\n",
    "    price = (kms - 150) * 6 + (100 * 8 + 40 * 9 + 10 * 10)\n",
    "elif kms >= 50:\n",
    "    price = (kms - 50) * 8 + (40 * 9 + 10 * 10)\n",
    "elif kms >= 10:\n",
    "    price = (kms - 10) * 9 + 10 * 10\n",
    "else:\n",
    "    price = kms * 10\n",
    "\n",
    "price += 5 * mins \n",
    "print(price)"
   ]
  },
  {
   "cell_type": "markdown",
   "metadata": {},
   "source": [
    "- BONUS QUESTION -\n",
    "1. Generate electricity bill using the following rate card.\n",
    "Take units consumed as input -\n",
    "- If units < 100 -> Free\n",
    "- If units >= 100 units and < 200 units -> Rs 2 per unit\n",
    "- If units >= 200 units -> Rs 5 per unit\n",
    "\n",
    "-----------------------------------------------\n",
    "\n",
    "2. Take in three inputs from a user which are marks in english, \n",
    "maths & science respectively (out of 100)\n",
    "Assign stream according to the following criteria. \n",
    "- If science > 90 or marks in all are greater than 75 -> Science \n",
    "- If marks in all are greater than 60 and less than 75 -> Commerce\n",
    "- If marks in any are less than 60 -> Humanities\n",
    "\n",
    "-----------------------------------------------\n",
    "\n",
    "3. Feedback System - Take string feedback from a user. \n",
    "Now, \n",
    "    if any the feedback is provided, \n",
    "    then print \"Thank you for your valuable feedback\"\n",
    "    if feedback is \"Super\", \"Great\", \"Fantastic\", \"Awesome\", \n",
    "    then print \"Thank you so much\"\n",
    "\n",
    "-----------------------------------------------\n",
    "\n",
    "4. Take an amount as input from user\n",
    "    You only have 200 and 500 Rs Notes in the ATM. For one transaction\n",
    "    you can only dispatch notes of a single type.\n",
    "\n",
    "    Given the amount \n",
    "    - \"Dispatching cash !\" if it can be dispatched.\n",
    "    - \"Denomination not available!\" if it can not be"
   ]
  },
  {
   "cell_type": "code",
   "execution_count": 18,
   "metadata": {},
   "outputs": [
    {
     "name": "stdout",
     "output_type": "stream",
     "text": [
      "1250\n"
     ]
    }
   ],
   "source": [
    "units = int(input())\n",
    "\n",
    "if units >= 200 :\n",
    "    bill = units * 5\n",
    "elif 100 <= units < 200:\n",
    "    bill = units * 2\n",
    "else:\n",
    "    bill = units * 0\n",
    "\n",
    "print(bill)\n",
    "    "
   ]
  },
  {
   "cell_type": "code",
   "execution_count": 19,
   "metadata": {},
   "outputs": [
    {
     "name": "stdout",
     "output_type": "stream",
     "text": [
      "Science department\n"
     ]
    }
   ],
   "source": [
    "english_marks = int(input())\n",
    "maths_marks = int(input())\n",
    "science_marks = int(input())\n",
    "total= english_marks + maths_marks+ science_marks\n",
    "\n",
    "if science_marks > 90 or (maths_marks > 75 and english_marks > 75 and science_marks > 75):\n",
    "    print(\"Science department\")\n",
    "elif (60 < maths_marks <= 75) and (60 < english_marks <= 75 ) and (60 < science_marks <= 75):\n",
    "    print(\"Commerce department\")\n",
    "else:\n",
    "    print(\"Arts department\")"
   ]
  },
  {
   "cell_type": "code",
   "execution_count": 22,
   "metadata": {},
   "outputs": [
    {
     "name": "stdout",
     "output_type": "stream",
     "text": [
      "Thank you so much\n"
     ]
    }
   ],
   "source": [
    "feedback = input()\n",
    "if feedback in (\"Super\" , \"Great\", \"Fantastic\", \"Awesome\" ):\n",
    "    print(\"Thank you so much\")\n",
    "elif feedback:\n",
    "    print(\"Thank you for providing feedback \")\n",
    "\n"
   ]
  },
  {
   "cell_type": "code",
   "execution_count": null,
   "metadata": {},
   "outputs": [],
   "source": [
    "amount = int(input())\n",
    "if amount % 200 == 0 or amount % 500:\n",
    "    print(\"Dispatching Cash !\")\n",
    "else:\n",
    "    print(\"Denomination is not available\")"
   ]
  }
 ],
 "metadata": {
  "kernelspec": {
   "display_name": "Python 3",
   "language": "python",
   "name": "python3"
  },
  "language_info": {
   "codemirror_mode": {
    "name": "ipython",
    "version": 3
   },
   "file_extension": ".py",
   "mimetype": "text/x-python",
   "name": "python",
   "nbconvert_exporter": "python",
   "pygments_lexer": "ipython3",
   "version": "3.11.4"
  },
  "orig_nbformat": 4
 },
 "nbformat": 4,
 "nbformat_minor": 2
}
